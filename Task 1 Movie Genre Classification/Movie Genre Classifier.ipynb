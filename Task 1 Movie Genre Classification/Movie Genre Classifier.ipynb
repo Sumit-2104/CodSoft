{
 "cells": [
  {
   "cell_type": "code",
   "execution_count": 1,
   "id": "1ea9664d-9937-4240-b572-addca1a26643",
   "metadata": {},
   "outputs": [],
   "source": [
    "import pandas as pd\n",
    "import numpy as np\n",
    "from sklearn.model_selection import train_test_split\n",
    "from sklearn.feature_extraction.text import TfidfVectorizer\n",
    "from sklearn.preprocessing import MultiLabelBinarizer\n",
    "from sklearn.multioutput import MultiOutputClassifier\n",
    "from sklearn.linear_model import LogisticRegression\n",
    "from sklearn.naive_bayes import MultinomialNB\n",
    "from sklearn.svm import LinearSVC\n",
    "from sklearn.metrics import classification_report\n",
    "import matplotlib.pyplot as plt\n",
    "import seaborn as sns"
   ]
  },
  {
   "cell_type": "code",
   "execution_count": 2,
   "id": "e9ea5646-1431-4915-a780-a4c43722f204",
   "metadata": {},
   "outputs": [
    {
     "data": {
      "text/html": [
       "<div>\n",
       "<style scoped>\n",
       "    .dataframe tbody tr th:only-of-type {\n",
       "        vertical-align: middle;\n",
       "    }\n",
       "\n",
       "    .dataframe tbody tr th {\n",
       "        vertical-align: top;\n",
       "    }\n",
       "\n",
       "    .dataframe thead th {\n",
       "        text-align: right;\n",
       "    }\n",
       "</style>\n",
       "<table border=\"1\" class=\"dataframe\">\n",
       "  <thead>\n",
       "    <tr style=\"text-align: right;\">\n",
       "      <th></th>\n",
       "      <th>ID</th>\n",
       "      <th>TITLE</th>\n",
       "      <th>GENRE</th>\n",
       "      <th>DESCRIPTION</th>\n",
       "    </tr>\n",
       "  </thead>\n",
       "  <tbody>\n",
       "    <tr>\n",
       "      <th>0</th>\n",
       "      <td>1</td>\n",
       "      <td>Oscar et la dame rose (2009)</td>\n",
       "      <td>drama</td>\n",
       "      <td>Listening in to a conversation between his doc...</td>\n",
       "    </tr>\n",
       "    <tr>\n",
       "      <th>1</th>\n",
       "      <td>2</td>\n",
       "      <td>Cupid (1997)</td>\n",
       "      <td>thriller</td>\n",
       "      <td>A brother and sister with a past incestuous re...</td>\n",
       "    </tr>\n",
       "    <tr>\n",
       "      <th>2</th>\n",
       "      <td>3</td>\n",
       "      <td>Young, Wild and Wonderful (1980)</td>\n",
       "      <td>adult</td>\n",
       "      <td>As the bus empties the students for their fiel...</td>\n",
       "    </tr>\n",
       "    <tr>\n",
       "      <th>3</th>\n",
       "      <td>4</td>\n",
       "      <td>The Secret Sin (1915)</td>\n",
       "      <td>drama</td>\n",
       "      <td>To help their unemployed father make ends meet...</td>\n",
       "    </tr>\n",
       "    <tr>\n",
       "      <th>4</th>\n",
       "      <td>5</td>\n",
       "      <td>The Unrecovered (2007)</td>\n",
       "      <td>drama</td>\n",
       "      <td>The film's title refers not only to the un-rec...</td>\n",
       "    </tr>\n",
       "  </tbody>\n",
       "</table>\n",
       "</div>"
      ],
      "text/plain": [
       "   ID                             TITLE     GENRE  \\\n",
       "0   1      Oscar et la dame rose (2009)     drama   \n",
       "1   2                      Cupid (1997)  thriller   \n",
       "2   3  Young, Wild and Wonderful (1980)     adult   \n",
       "3   4             The Secret Sin (1915)     drama   \n",
       "4   5            The Unrecovered (2007)     drama   \n",
       "\n",
       "                                         DESCRIPTION  \n",
       "0  Listening in to a conversation between his doc...  \n",
       "1  A brother and sister with a past incestuous re...  \n",
       "2  As the bus empties the students for their fiel...  \n",
       "3  To help their unemployed father make ends meet...  \n",
       "4  The film's title refers not only to the un-rec...  "
      ]
     },
     "execution_count": 2,
     "metadata": {},
     "output_type": "execute_result"
    }
   ],
   "source": [
    "# load dataset\n",
    "df_train = pd.read_csv('train_data.txt', sep = ' ::: ', engine='python', header=None, names=[\"ID\", \"TITLE\", \"GENRE\", \"DESCRIPTION\"])\n",
    "df_train.head()"
   ]
  },
  {
   "cell_type": "code",
   "execution_count": 3,
   "id": "080a5ece-36c4-4d2c-a7e9-8fc332488022",
   "metadata": {},
   "outputs": [
    {
     "data": {
      "text/html": [
       "<div>\n",
       "<style scoped>\n",
       "    .dataframe tbody tr th:only-of-type {\n",
       "        vertical-align: middle;\n",
       "    }\n",
       "\n",
       "    .dataframe tbody tr th {\n",
       "        vertical-align: top;\n",
       "    }\n",
       "\n",
       "    .dataframe thead th {\n",
       "        text-align: right;\n",
       "    }\n",
       "</style>\n",
       "<table border=\"1\" class=\"dataframe\">\n",
       "  <thead>\n",
       "    <tr style=\"text-align: right;\">\n",
       "      <th></th>\n",
       "      <th>ID</th>\n",
       "      <th>TITLE</th>\n",
       "      <th>DESCRIPTION</th>\n",
       "    </tr>\n",
       "  </thead>\n",
       "  <tbody>\n",
       "    <tr>\n",
       "      <th>0</th>\n",
       "      <td>1</td>\n",
       "      <td>Edgar's Lunch (1998)</td>\n",
       "      <td>L.R. Brane loves his life - his car, his apart...</td>\n",
       "    </tr>\n",
       "    <tr>\n",
       "      <th>1</th>\n",
       "      <td>2</td>\n",
       "      <td>La guerra de papá (1977)</td>\n",
       "      <td>Spain, March 1964: Quico is a very naughty chi...</td>\n",
       "    </tr>\n",
       "    <tr>\n",
       "      <th>2</th>\n",
       "      <td>3</td>\n",
       "      <td>Off the Beaten Track (2010)</td>\n",
       "      <td>One year in the life of Albin and his family o...</td>\n",
       "    </tr>\n",
       "    <tr>\n",
       "      <th>3</th>\n",
       "      <td>4</td>\n",
       "      <td>Meu Amigo Hindu (2015)</td>\n",
       "      <td>His father has died, he hasn't spoken with his...</td>\n",
       "    </tr>\n",
       "    <tr>\n",
       "      <th>4</th>\n",
       "      <td>5</td>\n",
       "      <td>Er nu zhai (1955)</td>\n",
       "      <td>Before he was known internationally as a marti...</td>\n",
       "    </tr>\n",
       "  </tbody>\n",
       "</table>\n",
       "</div>"
      ],
      "text/plain": [
       "   ID                        TITLE  \\\n",
       "0   1         Edgar's Lunch (1998)   \n",
       "1   2     La guerra de papá (1977)   \n",
       "2   3  Off the Beaten Track (2010)   \n",
       "3   4       Meu Amigo Hindu (2015)   \n",
       "4   5            Er nu zhai (1955)   \n",
       "\n",
       "                                         DESCRIPTION  \n",
       "0  L.R. Brane loves his life - his car, his apart...  \n",
       "1  Spain, March 1964: Quico is a very naughty chi...  \n",
       "2  One year in the life of Albin and his family o...  \n",
       "3  His father has died, he hasn't spoken with his...  \n",
       "4  Before he was known internationally as a marti...  "
      ]
     },
     "execution_count": 3,
     "metadata": {},
     "output_type": "execute_result"
    }
   ],
   "source": [
    "df_test = pd.read_csv('test_data.txt', sep = ' ::: ', engine='python', header=None, names=[\"ID\", \"TITLE\", \"DESCRIPTION\"])\n",
    "df_test.head()"
   ]
  },
  {
   "cell_type": "code",
   "execution_count": 4,
   "id": "0868c1c3-d65f-49b4-97f9-c47ccc8260f6",
   "metadata": {},
   "outputs": [
    {
     "data": {
      "text/html": [
       "<div>\n",
       "<style scoped>\n",
       "    .dataframe tbody tr th:only-of-type {\n",
       "        vertical-align: middle;\n",
       "    }\n",
       "\n",
       "    .dataframe tbody tr th {\n",
       "        vertical-align: top;\n",
       "    }\n",
       "\n",
       "    .dataframe thead th {\n",
       "        text-align: right;\n",
       "    }\n",
       "</style>\n",
       "<table border=\"1\" class=\"dataframe\">\n",
       "  <thead>\n",
       "    <tr style=\"text-align: right;\">\n",
       "      <th></th>\n",
       "      <th>ID</th>\n",
       "      <th>TITLE</th>\n",
       "      <th>GENRE</th>\n",
       "      <th>DESCRIPTION</th>\n",
       "    </tr>\n",
       "  </thead>\n",
       "  <tbody>\n",
       "    <tr>\n",
       "      <th>0</th>\n",
       "      <td>1</td>\n",
       "      <td>Edgar's Lunch (1998)</td>\n",
       "      <td>thriller</td>\n",
       "      <td>L.R. Brane loves his life - his car, his apart...</td>\n",
       "    </tr>\n",
       "    <tr>\n",
       "      <th>1</th>\n",
       "      <td>2</td>\n",
       "      <td>La guerra de papá (1977)</td>\n",
       "      <td>comedy</td>\n",
       "      <td>Spain, March 1964: Quico is a very naughty chi...</td>\n",
       "    </tr>\n",
       "    <tr>\n",
       "      <th>2</th>\n",
       "      <td>3</td>\n",
       "      <td>Off the Beaten Track (2010)</td>\n",
       "      <td>documentary</td>\n",
       "      <td>One year in the life of Albin and his family o...</td>\n",
       "    </tr>\n",
       "    <tr>\n",
       "      <th>3</th>\n",
       "      <td>4</td>\n",
       "      <td>Meu Amigo Hindu (2015)</td>\n",
       "      <td>drama</td>\n",
       "      <td>His father has died, he hasn't spoken with his...</td>\n",
       "    </tr>\n",
       "    <tr>\n",
       "      <th>4</th>\n",
       "      <td>5</td>\n",
       "      <td>Er nu zhai (1955)</td>\n",
       "      <td>drama</td>\n",
       "      <td>Before he was known internationally as a marti...</td>\n",
       "    </tr>\n",
       "  </tbody>\n",
       "</table>\n",
       "</div>"
      ],
      "text/plain": [
       "   ID                        TITLE        GENRE  \\\n",
       "0   1         Edgar's Lunch (1998)     thriller   \n",
       "1   2     La guerra de papá (1977)       comedy   \n",
       "2   3  Off the Beaten Track (2010)  documentary   \n",
       "3   4       Meu Amigo Hindu (2015)        drama   \n",
       "4   5            Er nu zhai (1955)        drama   \n",
       "\n",
       "                                         DESCRIPTION  \n",
       "0  L.R. Brane loves his life - his car, his apart...  \n",
       "1  Spain, March 1964: Quico is a very naughty chi...  \n",
       "2  One year in the life of Albin and his family o...  \n",
       "3  His father has died, he hasn't spoken with his...  \n",
       "4  Before he was known internationally as a marti...  "
      ]
     },
     "execution_count": 4,
     "metadata": {},
     "output_type": "execute_result"
    }
   ],
   "source": [
    "df_test_sol = pd.read_csv('test_data_solution.txt', sep = ' ::: ', engine='python', header=None, names=[\"ID\", \"TITLE\", \"GENRE\", \"DESCRIPTION\"])\n",
    "df_test_sol.head()"
   ]
  },
  {
   "cell_type": "code",
   "execution_count": 5,
   "id": "8318433a-0a8c-480b-98ae-a1a0b7ee59da",
   "metadata": {},
   "outputs": [
    {
     "name": "stdout",
     "output_type": "stream",
     "text": [
      "<class 'pandas.core.frame.DataFrame'>\n",
      "RangeIndex: 54214 entries, 0 to 54213\n",
      "Data columns (total 4 columns):\n",
      " #   Column       Non-Null Count  Dtype \n",
      "---  ------       --------------  ----- \n",
      " 0   ID           54214 non-null  int64 \n",
      " 1   TITLE        54214 non-null  object\n",
      " 2   GENRE        54214 non-null  object\n",
      " 3   DESCRIPTION  54214 non-null  object\n",
      "dtypes: int64(1), object(3)\n",
      "memory usage: 1.7+ MB\n"
     ]
    }
   ],
   "source": [
    "df_train.info()"
   ]
  },
  {
   "cell_type": "code",
   "execution_count": 6,
   "id": "a31625a2-8b0e-4fd4-b217-bd0c7ff126ab",
   "metadata": {},
   "outputs": [
    {
     "name": "stdout",
     "output_type": "stream",
     "text": [
      "<class 'pandas.core.frame.DataFrame'>\n",
      "RangeIndex: 54200 entries, 0 to 54199\n",
      "Data columns (total 3 columns):\n",
      " #   Column       Non-Null Count  Dtype \n",
      "---  ------       --------------  ----- \n",
      " 0   ID           54200 non-null  int64 \n",
      " 1   TITLE        54200 non-null  object\n",
      " 2   DESCRIPTION  54200 non-null  object\n",
      "dtypes: int64(1), object(2)\n",
      "memory usage: 1.2+ MB\n"
     ]
    }
   ],
   "source": [
    "df_test.info()"
   ]
  },
  {
   "cell_type": "code",
   "execution_count": 7,
   "id": "78271f0e-aaa7-412d-92dd-028655cc5ec0",
   "metadata": {},
   "outputs": [
    {
     "data": {
      "text/plain": [
       "(54214, 4)"
      ]
     },
     "execution_count": 7,
     "metadata": {},
     "output_type": "execute_result"
    }
   ],
   "source": [
    "df_train.shape"
   ]
  },
  {
   "cell_type": "code",
   "execution_count": 8,
   "id": "a888eef0-c7c4-4b5d-acab-6a5880d93f06",
   "metadata": {},
   "outputs": [
    {
     "data": {
      "text/plain": [
       "(54200, 3)"
      ]
     },
     "execution_count": 8,
     "metadata": {},
     "output_type": "execute_result"
    }
   ],
   "source": [
    "df_test.shape"
   ]
  },
  {
   "cell_type": "code",
   "execution_count": 9,
   "id": "54f197fb-291a-4f99-9d8f-1b75d9f85f11",
   "metadata": {},
   "outputs": [
    {
     "name": "stdout",
     "output_type": "stream",
     "text": [
      "Unique genres: ['action', 'adult', 'adventure', 'animation', 'biography', 'comedy', 'crime', 'documentary', 'drama', 'family', 'fantasy', 'game-show', 'history', 'horror', 'music', 'musical', 'mystery', 'news', 'reality-tv', 'romance', 'sci-fi', 'short', 'sport', 'talk-show', 'thriller', 'war', 'western']\n"
     ]
    }
   ],
   "source": [
    "all_genres = set()\n",
    "for genres in df_train['GENRE']:\n",
    "    all_genres.add(genres)\n",
    "all_genres = sorted(list(all_genres))\n",
    "print(\"Unique genres:\", all_genres)"
   ]
  },
  {
   "cell_type": "code",
   "execution_count": 10,
   "id": "75049a79-c8fd-46de-8a19-08ce173583c8",
   "metadata": {},
   "outputs": [],
   "source": [
    "df_train['GENRE'] = df_train['GENRE'].str.strip().str.lower()"
   ]
  },
  {
   "cell_type": "code",
   "execution_count": 11,
   "id": "178fd5f3-3644-49b6-a374-80ed6aa2f4bf",
   "metadata": {},
   "outputs": [],
   "source": [
    "mlb = MultiLabelBinarizer()\n",
    "y = mlb.fit_transform(df_train['GENRE'].apply(lambda x: [x] if isinstance(x, str) else x))"
   ]
  },
  {
   "cell_type": "code",
   "execution_count": 12,
   "id": "f17e4562-5e7a-4fec-9952-05f669f01ddf",
   "metadata": {},
   "outputs": [],
   "source": [
    "text_data = df_train['DESCRIPTION'].values"
   ]
  },
  {
   "cell_type": "code",
   "execution_count": 13,
   "id": "5355d72f-0c16-4508-b1b4-758e83907b39",
   "metadata": {},
   "outputs": [
    {
     "name": "stdout",
     "output_type": "stream",
     "text": [
      "TF-IDF matrix shape: (54214, 10000)\n"
     ]
    }
   ],
   "source": [
    "# Create TF-IDF vectorizer\n",
    "tfidf = TfidfVectorizer(\n",
    "    max_features=10000,\n",
    "    stop_words='english',\n",
    "    ngram_range=(1, 2),\n",
    "    min_df=5,\n",
    "    max_df=0.7\n",
    ")\n",
    "\n",
    "X = tfidf.fit_transform(text_data)\n",
    "print(\"TF-IDF matrix shape:\", X.shape)\n",
    "\n",
    "# Split data into train and test sets\n",
    "X_train, X_test, y_train, y_test = train_test_split(\n",
    "    X, y, test_size=0.2, random_state=42\n",
    ")"
   ]
  },
  {
   "cell_type": "markdown",
   "id": "479b33fc-0e56-4567-b4fa-3f6be06e89d6",
   "metadata": {},
   "source": [
    "# Model Buliding and Evaluation"
   ]
  },
  {
   "cell_type": "code",
   "execution_count": 15,
   "id": "68b7a7c7-4cdd-41be-8038-44fc858b21e8",
   "metadata": {},
   "outputs": [
    {
     "name": "stdout",
     "output_type": "stream",
     "text": [
      "Logistic Regression Classification Report:\n",
      "              precision    recall  f1-score   support\n",
      "\n",
      "      action       0.73      0.04      0.08       263\n",
      "       adult       0.75      0.08      0.15       112\n",
      "   adventure       0.57      0.03      0.05       139\n",
      "   animation       0.00      0.00      0.00       104\n",
      "   biography       0.00      0.00      0.00        61\n",
      "      comedy       0.77      0.28      0.41      1443\n",
      "       crime       0.00      0.00      0.00       107\n",
      " documentary       0.82      0.67      0.74      2659\n",
      "       drama       0.70      0.46      0.55      2697\n",
      "      family       0.67      0.01      0.03       150\n",
      "     fantasy       0.00      0.00      0.00        74\n",
      "   game-show       1.00      0.17      0.30        40\n",
      "     history       0.00      0.00      0.00        45\n",
      "      horror       0.82      0.28      0.42       431\n",
      "       music       0.72      0.22      0.33       144\n",
      "     musical       0.00      0.00      0.00        50\n",
      "     mystery       0.00      0.00      0.00        56\n",
      "        news       0.00      0.00      0.00        34\n",
      "  reality-tv       0.71      0.03      0.05       192\n",
      "     romance       0.00      0.00      0.00       151\n",
      "      sci-fi       0.75      0.04      0.08       143\n",
      "       short       0.83      0.11      0.19      1045\n",
      "       sport       0.83      0.05      0.10        93\n",
      "   talk-show       0.00      0.00      0.00        81\n",
      "    thriller       0.46      0.02      0.04       309\n",
      "         war       0.00      0.00      0.00        20\n",
      "     western       0.99      0.47      0.64       200\n",
      "\n",
      "   micro avg       0.77      0.35      0.48     10843\n",
      "   macro avg       0.45      0.11      0.15     10843\n",
      "weighted avg       0.71      0.35      0.43     10843\n",
      " samples avg       0.35      0.35      0.35     10843\n",
      "\n"
     ]
    }
   ],
   "source": [
    "# Logistic Regression\n",
    "lr_clf = MultiOutputClassifier(LogisticRegression(max_iter=1000, n_jobs=-1))\n",
    "lr_clf.fit(X_train, y_train)\n",
    "lr_pred = lr_clf.predict(X_test)\n",
    "\n",
    "print(\"Logistic Regression Classification Report:\")\n",
    "print(classification_report(y_test, lr_pred, target_names=mlb.classes_, zero_division=0))"
   ]
  },
  {
   "cell_type": "markdown",
   "id": "abb044c7-d0e7-4cf2-a4ae-6d752a3192fb",
   "metadata": {},
   "source": [
    "# Model Improvement And Analysis"
   ]
  },
  {
   "cell_type": "code",
   "execution_count": 17,
   "id": "8bd41fdb-8430-47ba-b25b-8391d9bbb422",
   "metadata": {},
   "outputs": [
    {
     "name": "stdout",
     "output_type": "stream",
     "text": [
      "Best parameters: {'estimator__C': 10, 'estimator__solver': 'lbfgs'}\n",
      "Optimized Logistic Regression Report:\n",
      "              precision    recall  f1-score   support\n",
      "\n",
      "      action       0.58      0.16      0.26       263\n",
      "       adult       0.74      0.23      0.35       112\n",
      "   adventure       0.47      0.10      0.17       139\n",
      "   animation       0.50      0.07      0.12       104\n",
      "   biography       0.00      0.00      0.00        61\n",
      "      comedy       0.62      0.44      0.51      1443\n",
      "       crime       0.67      0.06      0.10       107\n",
      " documentary       0.77      0.70      0.73      2659\n",
      "       drama       0.61      0.52      0.56      2697\n",
      "      family       0.48      0.09      0.15       150\n",
      "     fantasy       0.00      0.00      0.00        74\n",
      "   game-show       0.90      0.45      0.60        40\n",
      "     history       0.00      0.00      0.00        45\n",
      "      horror       0.72      0.47      0.57       431\n",
      "       music       0.64      0.42      0.50       144\n",
      "     musical       0.50      0.02      0.04        50\n",
      "     mystery       0.33      0.02      0.03        56\n",
      "        news       0.33      0.09      0.14        34\n",
      "  reality-tv       0.61      0.15      0.24       192\n",
      "     romance       0.18      0.01      0.02       151\n",
      "      sci-fi       0.62      0.15      0.24       143\n",
      "       short       0.54      0.27      0.36      1045\n",
      "       sport       0.68      0.25      0.36        93\n",
      "   talk-show       0.54      0.09      0.15        81\n",
      "    thriller       0.42      0.10      0.17       309\n",
      "         war       0.50      0.05      0.09        20\n",
      "     western       0.96      0.69      0.81       200\n",
      "\n",
      "   micro avg       0.67      0.44      0.53     10843\n",
      "   macro avg       0.52      0.21      0.27     10843\n",
      "weighted avg       0.63      0.44      0.50     10843\n",
      " samples avg       0.43      0.44      0.43     10843\n",
      "\n"
     ]
    }
   ],
   "source": [
    "from sklearn.model_selection import GridSearchCV\n",
    "\n",
    "# Define parameter grid\n",
    "param_grid = {\n",
    "    'estimator__C': [0.1, 1, 10],\n",
    "    'estimator__solver': ['lbfgs', 'sag']\n",
    "}\n",
    "\n",
    "# Grid search\n",
    "grid_search = GridSearchCV(\n",
    "    MultiOutputClassifier(LogisticRegression(max_iter=1000, n_jobs=-1)),\n",
    "    param_grid,\n",
    "    cv=3,\n",
    "    scoring='f1_micro',\n",
    "    n_jobs=-1\n",
    ")\n",
    "\n",
    "grid_search.fit(X_train, y_train)\n",
    "\n",
    "# Best parameters\n",
    "print(\"Best parameters:\", grid_search.best_params_)\n",
    "\n",
    "# Evaluate best model\n",
    "best_lr = grid_search.best_estimator_\n",
    "best_pred = best_lr.predict(X_test)\n",
    "print(\"Optimized Logistic Regression Report:\")\n",
    "print(classification_report(y_test, best_pred, target_names=mlb.classes_, zero_division=0))"
   ]
  },
  {
   "cell_type": "markdown",
   "id": "488dc1bd-ab67-44a3-9064-ca84100a7f8c",
   "metadata": {},
   "source": [
    "# Prediction Function"
   ]
  },
  {
   "cell_type": "code",
   "execution_count": 19,
   "id": "f23de610-cb93-45a5-949c-04b2d063d9bc",
   "metadata": {},
   "outputs": [
    {
     "name": "stdout",
     "output_type": "stream",
     "text": [
      "Predicted genres: {'drama': 0.4901935411925282}\n"
     ]
    }
   ],
   "source": [
    "def predict_genres(text, model=best_lr, threshold=0.3):\n",
    "    \n",
    "    # Transform text to TF-IDF\n",
    "    text_tfidf = tfidf.transform([text])\n",
    "    \n",
    "    # Get probabilities for each genre\n",
    "    probas = model.predict_proba(text_tfidf)\n",
    "    \n",
    "    # Create dictionary of genre probabilities\n",
    "    genre_probs = {}\n",
    "    for i, genre in enumerate(mlb.classes_):\n",
    "        genre_probs[genre] = probas[i][0][1]  # Probability of positive class\n",
    "        \n",
    "    # Filter genres above threshold\n",
    "    predicted_genres = {k:v for k,v in genre_probs.items() if v >= threshold}\n",
    "    \n",
    "    # Sort by probability\n",
    "    return dict(sorted(predicted_genres.items(), key=lambda item: item[1], reverse=True))\n",
    "\n",
    "# Example usage\n",
    "sample_plot = \"A young boy discovers he's a wizard and is sent to a magical school where he makes friends and enemies while uncovering secrets about his past.\"\n",
    "print(\"Predicted genres:\", predict_genres(sample_plot))"
   ]
  },
  {
   "cell_type": "markdown",
   "id": "8a84d195-f368-414a-8e37-942200f49986",
   "metadata": {},
   "source": [
    "# Visualization "
   ]
  },
  {
   "cell_type": "code",
   "execution_count": 21,
   "id": "908e4a95-ff60-4f54-b59e-fe2d414332ca",
   "metadata": {},
   "outputs": [
    {
     "data": {
      "image/png": "[encoded data removed]",
      "text/plain": [
       "<Figure size 1200x600 with 1 Axes>"
      ]
     },
     "metadata": {},
     "output_type": "display_data"
    }
   ],
   "source": [
    "# Plot genre distribution\n",
    "genre_counts = pd.Series(mlb.inverse_transform(y)).explode().value_counts()\n",
    "plt.figure(figsize=(12, 6))\n",
    "sns.barplot(x=genre_counts.values, y=genre_counts.index)\n",
    "plt.title('Genre Distribution in Dataset')\n",
    "plt.xlabel('Count')\n",
    "plt.ylabel('Genre')\n",
    "plt.show()"
   ]
  },
  {
   "cell_type": "code",
   "execution_count": 23,
   "id": "687ee13d-16e3-4598-9360-a6a001766e1b",
   "metadata": {},
   "outputs": [
    {
     "name": "stdout",
     "output_type": "stream",
     "text": [
      "Available genres: ['action' 'adult' 'adventure' 'animation' 'biography' 'comedy' 'crime'\n",
      " 'documentary' 'drama' 'family' 'fantasy' 'game-show' 'history' 'horror'\n",
      " 'music' 'musical' 'mystery' 'news' 'reality-tv' 'romance' 'sci-fi'\n",
      " 'short' 'sport' 'talk-show' 'thriller' 'war' 'western']\n"
     ]
    },
    {
     "data": {
      "image/png": "[encoded data removed]",
      "text/plain": [
       "<Figure size 1000x600 with 1 Axes>"
      ]
     },
     "metadata": {},
     "output_type": "display_data"
    }
   ],
   "source": [
    "# Plot feature importance for a specific genre (e.g., 'Drama')\n",
    "def plot_top_terms_for_genre(genre, n_terms=20):\n",
    "    genre_idx = list(mlb.classes_).index(genre)\n",
    "    lr_model = best_lr.estimators_[genre_idx]\n",
    "    \n",
    "    # Get feature importance\n",
    "    feature_names = tfidf.get_feature_names_out()\n",
    "    coefs = lr_model.coef_[0]\n",
    "    \n",
    "    # Create dataframe\n",
    "    coef_df = pd.DataFrame({'term': feature_names, 'coef': coefs})\n",
    "    top_terms = coef_df.sort_values('coef', ascending=False).head(n_terms)\n",
    "    \n",
    "    # Plot\n",
    "    plt.figure(figsize=(10, 6))\n",
    "    sns.barplot(x='coef', y='term', data=top_terms)\n",
    "    plt.title(f'Top Terms for Genre: {genre}')\n",
    "    plt.show()\n",
    "# First check available genres\n",
    "print(\"Available genres:\", mlb.classes_)\n",
    "plot_top_terms_for_genre('drama')"
   ]
  },
  {
   "cell_type": "markdown",
   "id": "715fec14-cbc1-41e8-8cbc-656aae5ab154",
   "metadata": {},
   "source": [
    "# Saving the model"
   ]
  },
  {
   "cell_type": "code",
   "execution_count": 26,
   "id": "860c457c-4239-4ca2-8203-2fec59beebf9",
   "metadata": {},
   "outputs": [],
   "source": [
    "import joblib\n",
    "import pickle\n",
    "\n",
    "# Save the best model and vectorizer\n",
    "joblib.dump(best_lr, 'movie_genre_classifier.pkl')\n",
    "with open('tfidf_vectorizer.pkl', 'wb') as f:\n",
    "    pickle.dump(tfidf, f)\n",
    "with open('mlb.pkl', 'wb') as f:\n",
    "    pickle.dump(mlb, f)"
   ]
  },
  {
   "cell_type": "code",
   "execution_count": null,
   "id": "5f8a3f25-206f-449e-b441-d6086cbcbf25",
   "metadata": {},
   "outputs": [],
   "source": []
  }
 ],
 "metadata": {
  "kernelspec": {
   "display_name": "Python [conda env:base] *",
   "language": "python",
   "name": "conda-base-py"
  },
  "language_info": {
   "codemirror_mode": {
    "name": "ipython",
    "version": 3
   },
   "file_extension": ".py",
   "mimetype": "text/x-python",
   "name": "python",
   "nbconvert_exporter": "python",
   "pygments_lexer": "ipython3",
   "version": "3.12.7"
  }
 },
 "nbformat": 4,
 "nbformat_minor": 5
}
